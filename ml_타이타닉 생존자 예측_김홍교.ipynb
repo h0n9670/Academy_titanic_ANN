{
 "cells": [
  {
   "cell_type": "markdown",
   "metadata": {},
   "source": [
    "# 머신러닝 프로젝트 "
   ]
  },
  {
   "cell_type": "markdown",
   "metadata": {},
   "source": [
    "## 타이타닉 생존자 예측모델 개발\n",
    "\n",
    "- 데이터 : \n",
    "  - 제공 데이터 파일 : titanic3.csv\n",
    "  - 훈련/검증용 데이터 : 평가 데이터 = 8 : 2\n",
    "  - 훈련/검증용 데이터로 모델 학습 및 검증하고 평가 데이터는 최종 평가에만 사용\n",
    "\n",
    "\n",
    "- 모델 개발 방법 :\n",
    "  - 데이터 전처리 및 탐색적 분석을 통하여 파생변수 최소 2개 이상 개발\n",
    "  - 알고리즘은 최소한 3개 이상 적용(Decision Tree, Random Forest, Logistic Regression은 필수)\n",
    "\n",
    "\n",
    "- 훈련 및 평가 방법 :\n",
    "  - GridSearchCV API를 활용하여 교차검증 및 최적 하이퍼파라미터 찾아서 학습 및 검증 수행\n",
    "\n",
    "\n",
    "- 결과물 제출 : 이메일\n",
    " \n"
   ]
  },
  {
   "cell_type": "code",
   "execution_count": 1,
   "metadata": {},
   "outputs": [],
   "source": [
    "import warnings\n",
    "warnings.filterwarnings(\"ignore\", category=FutureWarning)"
   ]
  }
 ],
 "metadata": {
  "kernelspec": {
   "display_name": "Python 3",
   "language": "python",
   "name": "python3"
  },
  "language_info": {
   "codemirror_mode": {
    "name": "ipython",
    "version": 3
   },
   "file_extension": ".py",
   "mimetype": "text/x-python",
   "name": "python",
   "nbconvert_exporter": "python",
   "pygments_lexer": "ipython3",
   "version": "3.7.6"
  }
 },
 "nbformat": 4,
 "nbformat_minor": 2
}
